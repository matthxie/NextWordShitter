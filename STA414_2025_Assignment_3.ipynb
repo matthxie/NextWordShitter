{
  "cells": [
    {
      "cell_type": "markdown",
      "metadata": {
        "id": "gMAXaY8USfWb"
      },
      "source": [
        "Changelog:  (Last Updated 2025-02-26)"
      ]
    },
    {
      "cell_type": "markdown",
      "metadata": {
        "id": "248_qtulv8jx"
      },
      "source": [
        "# Probabilistic ML: Assignment 3\n",
        "- **Deadline**: 2025-03-16 (March 16th 2025, 23:59)\n",
        "- **Submission**: You need to submit your solutions through Crowdmark, including all your derivations, plots, and your code. You can produce the files however you like (e.g. $\\LaTeX$, Microsoft Word, etc), as long as it is readable. Points will be deducted if we have a hard time reading your solutions or understanding the structure of your code.\n",
        "\n",
        "- **Collaboration policy**: After attempting the problems on an individual basis, you may discuss and work together on the assignment with up to two classmates. However, **you must write your own code and write up your own solutions individually and explicitly name any collaborators** at the top of the homework."
      ]
    },
    {
      "cell_type": "markdown",
      "metadata": {
        "id": "t1RKToQQcX2Q"
      },
      "source": [
        "# 1. [54pts] Stochastic Variational Inference in the TrueSkill Model\n",
        "\n",
        "## Background\n",
        "\n",
        "We'll continue working with [TrueSkill](http://papers.nips.cc/paper/3079-trueskilltm-a-bayesian-skill-rating-system.pdf) model, a player ranking system for competitive games originally developed for Halo 2. Recall the model:\n",
        "\n",
        "\n",
        "## Model definition\n",
        "\n",
        "We assume that each player has a true, but unknown skill $z_i \\in \\mathbb{R}$.\n",
        "We use $N$ to denote the number of players.\n",
        "\n",
        "### The prior:\n",
        "The prior over each player's skill is a standard normal distribution, and all player's skills are *a priori* independent.\n",
        "\n",
        "### The likelihood:\n",
        "For each observed game, the probability that player $i$ beats player $j$, given the player's skills $z_A$ and $z_B$, is:\n",
        "$$p(A \\,\\, \\text{beat} \\,\\, B | z_A, z_B) = \\sigma(z_i - z_j)$$\n",
        "where\n",
        "$$\\sigma(y) = \\frac{1}{1 + \\exp(-y)}$$\n",
        "We chose this function simply because it's close to zero or one when the player's skills are very different, and equals one-half when the player skills are the same.  This likelihood function is the only thing that gives meaning to the latent skill variables $z_1 \\dots z_N$.\n",
        "\n",
        "There can be more than one game played between a pair of players. The outcome of each game is independent given the players' skills.\n",
        "We use $M$ to denote the number of games.\n"
      ]
    },
    {
      "cell_type": "code",
      "execution_count": 1,
      "metadata": {
        "id": "n6euHm_h4Voi"
      },
      "outputs": [],
      "source": [
        "import os\n",
        "import os.path\n",
        "\n",
        "import matplotlib.pyplot as plt\n",
        "import wget\n",
        "\n",
        "import pandas as pd\n",
        "\n",
        "\n",
        "import numpy as np\n",
        "from scipy.stats import norm\n",
        "import scipy.io\n",
        "import scipy.stats\n",
        "import torch\n",
        "import random\n",
        "from torch import nn\n",
        "from torch.distributions.normal import Normal\n",
        "\n",
        "from functools import partial\n",
        "from tqdm import trange, tqdm_notebook\n",
        "\n",
        "import matplotlib.pyplot as plt\n",
        "\n",
        "# Helper function\n",
        "def diag_gaussian_log_density(x, mu, std):\n",
        "    # axis=-1 means sum over the last dimension.\n",
        "    m = Normal(mu, std)\n",
        "    return torch.sum(m.log_prob(x), axis=-1)"
      ]
    },
    {
      "cell_type": "markdown",
      "metadata": {
        "id": "-bf1iLXTkXd5"
      },
      "source": [
        "## Implementing the TrueSkill Model\n",
        "\n"
      ]
    },
    {
      "cell_type": "markdown",
      "metadata": {
        "id": "A62Y2IWg39ix"
      },
      "source": [
        "This part was mostly done in Assignment 2. We will recall some useful functions.\n",
        "\n",
        "**a)** The function $\\texttt{log\\_joint\\_prior}$ computes the log of the prior, jointly evaluated over all player's skills."
      ]
    },
    {
      "cell_type": "code",
      "execution_count": 32,
      "metadata": {
        "id": "PDmHDiac4Rpr"
      },
      "outputs": [],
      "source": [
        "def log_joint_prior(zs_array):\n",
        "    return diag_gaussian_log_density(zs_array, torch.tensor([0.0]), torch.tensor([1.0]))"
      ]
    },
    {
      "cell_type": "markdown",
      "metadata": {
        "id": "AAbAgxMl4X2q"
      },
      "source": [
        "**b)** The function `logp_a_beats_b` that, given a pair of skills $z_a$ and $z_b$, evaluates the log-likelihood that player with skill $z_a$ beat player with skill $z_b$ under the model detailed above.\n",
        "\n",
        "To ensure numerical stability, we use the function `np.log1p` that computes $\\log(1 + x)$ in a numerically stable way.  Or even better, use `np.logaddexp`."
      ]
    },
    {
      "cell_type": "code",
      "execution_count": 2,
      "metadata": {
        "id": "V7nUXkYl_f4T"
      },
      "outputs": [],
      "source": [
        "def logp_a_beats_b(z_a, z_b):\n",
        "    return -torch.logaddexp(torch.tensor([0.0]), z_b - z_a)\n",
        "\n",
        "def log_prior_over_2_players(z1, z2):\n",
        "    m = Normal(torch.tensor([0.0]), torch.tensor([[1.0]]))\n",
        "    return m.log_prob(z1) + m.log_prob(z2)\n",
        "\n",
        "def prior_over_2_players(z1, z2):\n",
        "    return torch.exp(log_prior_over_2_players(z1, z2))\n",
        "\n",
        "def log_posterior_A_beat_B(z1, z2):\n",
        "    return log_prior_over_2_players(z1, z2) + logp_a_beats_b(z1, z2)\n",
        "\n",
        "def posterior_A_beat_B(z1, z2):\n",
        "    return torch.exp(log_posterior_A_beat_B(z1, z2))\n",
        "\n",
        "def log_posterior_A_beat_B_20_times(z1, z2):\n",
        "    return log_prior_over_2_players(z1, z2) + 20.0 * logp_a_beats_b(z1, z2)\n",
        "\n",
        "def posterior_A_beat_B_20_times(z1, z2):\n",
        "    return torch.exp(log_posterior_A_beat_B_20_times(z1, z2))\n",
        "\n",
        "def log_posterior_beat_each_other_20_times(z1, z2):\n",
        "    return log_prior_over_2_players(z1, z2) \\\n",
        "        + 20.* logp_a_beats_b(z1, z2) \\\n",
        "        + 20.* logp_a_beats_b(z2, z1)\n",
        "\n",
        "def posterior_beat_each_other_20_times(z1, z2):\n",
        "    return torch.exp(log_posterior_beat_each_other_20_times(z1, z2))"
      ]
    },
    {
      "cell_type": "markdown",
      "metadata": {
        "id": "hA77ZVR5SgGs"
      },
      "source": [
        "The following functions will be used for plotting.  Note that `plot_2d_fun` can now take an optional second function, so you can compare two functions."
      ]
    },
    {
      "cell_type": "code",
      "execution_count": 3,
      "metadata": {
        "id": "at7JEyWs_QRK"
      },
      "outputs": [],
      "source": [
        "# Plotting helper functions for free\n",
        "def plot_isocontours(ax, func, xlimits=[-4, 4], ylimits=[-4, 4], steps=101, cmap=\"summer\"):\n",
        "    x = torch.linspace(*xlimits, steps=steps)\n",
        "    y = torch.linspace(*ylimits, steps=steps)\n",
        "    X, Y = torch.meshgrid(x, y)\n",
        "    Z = func(X, Y)\n",
        "    plt.contour(X, Y, Z, cmap=cmap)\n",
        "    ax.set_yticks([])\n",
        "    ax.set_xticks([])\n",
        "\n",
        "def plot_2d_fun(f, x_axis_label=\"\", y_axis_label=\"\", f2=None, scatter_pts=None):\n",
        "    # This is the function your code should call.\n",
        "    # f() should take two arguments.\n",
        "    fig = plt.figure(figsize=(8,8), facecolor='white')\n",
        "    ax = fig.add_subplot(111, frameon=False)\n",
        "    ax.set_xlabel(x_axis_label)\n",
        "    ax.set_ylabel(y_axis_label)\n",
        "    plot_isocontours(ax, f)\n",
        "    if f2 is not None:\n",
        "      plot_isocontours(ax, f2, cmap='winter')\n",
        "\n",
        "    if scatter_pts is not None:\n",
        "      plt.scatter(scatter_pts[:,0], scatter_pts[:, 1])\n",
        "    plt.plot([4, -4], [4, -4], 'b--')   # Line of equal skill\n",
        "    plt.show(block=True)\n",
        "    plt.draw()"
      ]
    },
    {
      "cell_type": "markdown",
      "metadata": {
        "id": "nm-SM6Fc4yz8"
      },
      "source": [
        "## **1.1 [20pts]** Stochastic Variational Inference on Two Players and Toy Data\n",
        "\n",
        "One nice thing about a Bayesian approach is that it separates the model specification from the approximate inference strategy.\n",
        "The original Trueskill paper from 2007 used message passing.\n",
        "\n",
        "In this question we will  approximate posterior distributions with gradient-based stochastic variational inference.\n",
        "\n",
        "The parameters are $\\phi = (\\mu,\\log(\\sigma))$. Notice that instead of $\\sigma$ (which is constrained to be positive), we work with $\\log(\\sigma)$, removing the constraint. This way, we can do unconstrained gradient-based optimization.\n",
        "\n"
      ]
    },
    {
      "cell_type": "markdown",
      "metadata": {
        "id": "K-ri8HRQ461m"
      },
      "source": [
        "**a) [9pts]** Implement the missing lines in the below code, to complete the evidence lower bound function and the reparameterized sampler for the approximate posterior.\n",
        "\n",
        "Hint 1: You must use the reparametrization trick in your sampler if you want your gradients to be unbiased.\n",
        "\n",
        "Hint 2: If you're worried you got these wrong, you can check that the sampler matches the log pdf by plotting a histogram of samples against a plot of the pdf."
      ]
    },
    {
      "cell_type": "code",
      "execution_count": null,
      "metadata": {
        "id": "kZlCOViq5Ahf"
      },
      "outputs": [],
      "source": [
        "def diag_gaussian_samples(mean, log_std, num_samples):\n",
        "    # mean and log_std are (D) dimensional vectors\n",
        "    # Return a (num_samples, D) matrix, where each sample is\n",
        "    # from a diagonal multivariate Gaussian.\n",
        "\n",
        "    # TODO.  You might want to use torch.randn(). Remember\n",
        "    # you must use the reparameterization trick.  Also remember that\n",
        "    # we are parameterizing the _log_ of the standard deviation.\n",
        "\n",
        "    epsilon = torch.randn(num_samples, mean.shape[0])\n",
        "    return mean + torch.exp(log_std) * epsilon\n",
        "\n",
        "\n",
        "def diag_gaussian_logpdf(x, mean, log_std):\n",
        "    # Evaluate the density of a batch of points on a\n",
        "    # diagonal multivariate Gaussian. x is a (num_samples, D) matrix.\n",
        "    # Return a tensor of shape (num_samples)\n",
        "\n",
        "    return diag_gaussian_log_density(x, mean, torch.exp(log_std))\n",
        "\n",
        "\n",
        "def batch_elbo(logprob, mean, log_std, num_samples):\n",
        "    # TODO: Use simple Monte Carlo to estimate ELBO\n",
        "    # on a batch of size num_samples\n",
        "\n",
        "    samples = diag_gaussian_samples(mean, log_std, num_samples)\n",
        "    log_q = diag_gaussian_logpdf(samples, mean, log_std)\n",
        "    return torch.sum(logprob - log_q) / num_samples"
      ]
    },
    {
      "cell_type": "markdown",
      "metadata": {
        "id": "lfAD3ffb5CD9"
      },
      "source": [
        "\n",
        "**b) [4pts]** Write a loss function called $\\texttt{objective}$  that takes variational distribution parameters, and returns an unbiased estimate of the negative elbo using $\\texttt{num\\_samples\\_per\\_iter}$ samples, to approximate the joint posterior over skills conditioned on observing player A winning 20 games.\n",
        "\n",
        "Note: We want a _negative_ ELBO estimate, because the convention in optimization is to minimize functions, and we want to maximize the ELBO."
      ]
    },
    {
      "cell_type": "code",
      "execution_count": 5,
      "metadata": {
        "id": "j-Qt2vqvKgAN"
      },
      "outputs": [],
      "source": [
        "# Hyperparameters\n",
        "num_players = 2\n",
        "n_iters = 1200\n",
        "stepsize = 0.0001\n",
        "num_samples_per_iter = 80\n",
        "\n",
        "def log_posterior_A_beat_B_20_times_1_arg(z1z2):\n",
        "  return log_posterior_A_beat_B_20_times(z1z2[:,0], z1z2[:,1]).flatten()\n",
        "\n",
        "def objective(params):  # The loss function to be minimized.\n",
        "  # TODO.  Hint:  This can be done in one line.\n",
        "\n",
        "  samples = diag_gaussian_samples(params[0], params[1], num_samples_per_iter)\n",
        "  log_prob = log_posterior_A_beat_B_20_times_1_arg(samples)\n",
        "\n",
        "  return -batch_elbo(log_prob, params[0], params[1], num_samples_per_iter)"
      ]
    },
    {
      "cell_type": "markdown",
      "metadata": {
        "id": "ixGDUDjwKnWd"
      },
      "source": [
        "**c) [1pts]** Initialize a set of variational parameters and optimize them to approximate the joint where we observe player A winning 20 games. Report the final loss. Also plot the optimized variational approximation contours and the target distribution on the same axes.\n",
        "\n",
        "Hint:  Any initialization should be fine.  How many variational parameters do you need?"
      ]
    },
    {
      "cell_type": "code",
      "execution_count": 6,
      "metadata": {
        "id": "biW5JiZq5EXc"
      },
      "outputs": [
        {
          "name": "stdout",
          "output_type": "stream",
          "text": [
            "Optimizing variational parameters...\n"
          ]
        },
        {
          "name": "stderr",
          "output_type": "stream",
          "text": [
            "  4%|▍         | 47/1200 [00:00<00:10, 108.50it/s]"
          ]
        },
        {
          "name": "stdout",
          "output_type": "stream",
          "text": [
            "Iteration 0 lower bound 264.70306396484375\n",
            "Iteration 25 lower bound 31.78597068786621\n",
            "Iteration 50 lower bound 15.099512100219727\n",
            "Iteration 75 lower bound 13.45228099822998\n"
          ]
        },
        {
          "name": "stderr",
          "output_type": "stream",
          "text": [
            " 15%|█▍        | 179/1200 [00:00<00:03, 305.06it/s]"
          ]
        },
        {
          "name": "stdout",
          "output_type": "stream",
          "text": [
            "Iteration 100 lower bound 10.58454704284668\n",
            "Iteration 125 lower bound 7.891526699066162\n",
            "Iteration 150 lower bound 6.811938285827637\n",
            "Iteration 175 lower bound 6.119801998138428\n"
          ]
        },
        {
          "name": "stderr",
          "output_type": "stream",
          "text": [
            " 22%|██▏       | 269/1200 [00:01<00:02, 372.84it/s]"
          ]
        },
        {
          "name": "stdout",
          "output_type": "stream",
          "text": [
            "Iteration 200 lower bound 5.410181522369385\n",
            "Iteration 225 lower bound 4.807015895843506\n",
            "Iteration 250 lower bound 5.546432018280029\n",
            "Iteration 275 lower bound 5.134564399719238\n"
          ]
        },
        {
          "name": "stderr",
          "output_type": "stream",
          "text": [
            " 30%|██▉       | 355/1200 [00:01<00:02, 397.71it/s]"
          ]
        },
        {
          "name": "stdout",
          "output_type": "stream",
          "text": [
            "Iteration 300 lower bound 4.447048187255859\n",
            "Iteration 325 lower bound 4.469286918640137\n",
            "Iteration 350 lower bound 4.996598243713379\n",
            "Iteration 375 lower bound 4.3986310958862305\n"
          ]
        },
        {
          "name": "stderr",
          "output_type": "stream",
          "text": [
            " 37%|███▋      | 443/1200 [00:01<00:01, 415.21it/s]"
          ]
        },
        {
          "name": "stdout",
          "output_type": "stream",
          "text": [
            "Iteration 400 lower bound 4.459961891174316\n",
            "Iteration 425 lower bound 4.209531307220459\n",
            "Iteration 450 lower bound 4.268887519836426\n",
            "Iteration 475 lower bound 3.72737193107605\n"
          ]
        },
        {
          "name": "stderr",
          "output_type": "stream",
          "text": [
            " 48%|████▊     | 576/1200 [00:01<00:01, 430.71it/s]"
          ]
        },
        {
          "name": "stdout",
          "output_type": "stream",
          "text": [
            "Iteration 500 lower bound 4.208773612976074\n",
            "Iteration 525 lower bound 4.694693565368652\n",
            "Iteration 550 lower bound 4.262420654296875\n",
            "Iteration 575 lower bound 4.453737258911133\n",
            "Iteration 600 lower bound 4.415223121643066\n"
          ]
        },
        {
          "name": "stderr",
          "output_type": "stream",
          "text": [
            " 55%|█████▌    | 664/1200 [00:01<00:01, 426.19it/s]"
          ]
        },
        {
          "name": "stdout",
          "output_type": "stream",
          "text": [
            "Iteration 625 lower bound 4.784109592437744\n",
            "Iteration 650 lower bound 4.27078914642334\n",
            "Iteration 675 lower bound 4.662172317504883\n",
            "Iteration 700 lower bound 4.332550525665283\n"
          ]
        },
        {
          "name": "stderr",
          "output_type": "stream",
          "text": [
            " 66%|██████▋   | 796/1200 [00:02<00:00, 434.05it/s]"
          ]
        },
        {
          "name": "stdout",
          "output_type": "stream",
          "text": [
            "Iteration 725 lower bound 4.004646301269531\n",
            "Iteration 750 lower bound 4.353650093078613\n",
            "Iteration 775 lower bound 4.2084174156188965\n",
            "Iteration 800 lower bound 3.9847354888916016\n"
          ]
        },
        {
          "name": "stderr",
          "output_type": "stream",
          "text": [
            " 74%|███████▍  | 886/1200 [00:02<00:00, 437.84it/s]"
          ]
        },
        {
          "name": "stdout",
          "output_type": "stream",
          "text": [
            "Iteration 825 lower bound 3.9169845581054688\n",
            "Iteration 850 lower bound 3.982245683670044\n",
            "Iteration 875 lower bound 4.337024688720703\n",
            "Iteration 900 lower bound 3.848128080368042\n"
          ]
        },
        {
          "name": "stderr",
          "output_type": "stream",
          "text": [
            " 81%|████████  | 974/1200 [00:02<00:00, 385.89it/s]"
          ]
        },
        {
          "name": "stdout",
          "output_type": "stream",
          "text": [
            "Iteration 925 lower bound 4.015576362609863\n",
            "Iteration 950 lower bound 3.837563991546631\n",
            "Iteration 975 lower bound 3.905480146408081\n"
          ]
        },
        {
          "name": "stderr",
          "output_type": "stream",
          "text": [
            " 88%|████████▊ | 1062/1200 [00:02<00:00, 409.81it/s]"
          ]
        },
        {
          "name": "stdout",
          "output_type": "stream",
          "text": [
            "Iteration 1000 lower bound 4.411314487457275\n",
            "Iteration 1025 lower bound 3.8338534832000732\n",
            "Iteration 1050 lower bound 4.407772064208984\n",
            "Iteration 1075 lower bound 4.0817694664001465\n"
          ]
        },
        {
          "name": "stderr",
          "output_type": "stream",
          "text": [
            " 96%|█████████▌| 1149/1200 [00:03<00:00, 418.99it/s]"
          ]
        },
        {
          "name": "stdout",
          "output_type": "stream",
          "text": [
            "Iteration 1100 lower bound 4.410593509674072\n",
            "Iteration 1125 lower bound 4.0895185470581055\n",
            "Iteration 1150 lower bound 3.8675665855407715\n",
            "Iteration 1175 lower bound 3.8716628551483154\n"
          ]
        },
        {
          "name": "stderr",
          "output_type": "stream",
          "text": [
            "100%|██████████| 1200/1200 [00:03<00:00, 366.67it/s]\n",
            "c:\\Users\\P8Z77WS\\AppData\\Local\\Programs\\Python\\Python312\\Lib\\site-packages\\torch\\functional.py:539: UserWarning: torch.meshgrid: in an upcoming release, it will be required to pass the indexing argument. (Triggered internally at C:\\actions-runner\\_work\\pytorch\\pytorch\\pytorch\\aten\\src\\ATen\\native\\TensorShape.cpp:3638.)\n",
            "  return _VF.meshgrid(tensors, **kwargs)  # type: ignore[attr-defined]\n"
          ]
        },
        {
          "data": {
            "image/png": "[encoded data removed]",
            "text/plain": [
              "<Figure size 800x800 with 1 Axes>"
            ]
          },
          "metadata": {},
          "output_type": "display_data"
        },
        {
          "data": {
            "text/plain": [
              "<Figure size 640x480 with 0 Axes>"
            ]
          },
          "metadata": {},
          "output_type": "display_data"
        }
      ],
      "source": [
        "def callback(params, t):\n",
        "  if t % 25 == 0:\n",
        "    print(\"Iteration {} lower bound {}\".format(t, objective(params)))\n",
        "\n",
        "# Set up optimizer.\n",
        "D = 2\n",
        "init_log_std = torch.tensor([2, 3], dtype=torch.float32, requires_grad=True)\n",
        "init_mean = torch.tensor([1, 1], dtype=torch.float32, requires_grad=True)\n",
        "\n",
        "\n",
        "params = (init_mean, init_log_std)\n",
        "optimizer = torch.optim.SGD(params, lr=stepsize, momentum=0.9)\n",
        "\n",
        "def update():\n",
        "    optimizer.zero_grad()\n",
        "    loss = objective(params)\n",
        "    loss.backward()\n",
        "    optimizer.step()\n",
        "\n",
        "# Main loop.\n",
        "print(\"Optimizing variational parameters...\")\n",
        "for t in trange(0, n_iters):\n",
        "    update()\n",
        "    callback(params, t)\n",
        "\n",
        "\n",
        "def approx_posterior_2d(z1, z2):\n",
        "    # The approximate posterior\n",
        "    mean, logstd = params[0].detach(), params[1].detach()\n",
        "    return torch.exp(diag_gaussian_logpdf(torch.stack([z1, z2], dim=2), mean, logstd))\n",
        "\n",
        "plot_2d_fun(posterior_A_beat_B_20_times, \"Player A Skill\", \"Player B Skill\",\n",
        "            f2=approx_posterior_2d)"
      ]
    },
    {
      "cell_type": "markdown",
      "metadata": {
        "id": "sCmqGbeK5iAf"
      },
      "source": [
        "**d) [3pt]** Write a loss function called $\\texttt{objective}$  that takes variational distribution parameters , and returns a negative elbo estimate using simple Monte carlo with $\\texttt{num\\_samples\\_per\\_iter}$ samples, to approximate the joint where we observe player A winning 20 games and player B winning 20 games.\n",
        "\n",
        "Hint:  You can find analogous functions in the code above.\n"
      ]
    },
    {
      "cell_type": "code",
      "execution_count": 7,
      "metadata": {
        "id": "5Zz6DkOacXDC"
      },
      "outputs": [],
      "source": [
        "# Hyperparameters\n",
        "n_iters = 100\n",
        "stepsize = 0.0001\n",
        "num_samples_per_iter = 50\n",
        "\n",
        "def log_posterior_beat_each_other_20_times_1_arg(z1z2):\n",
        "    # z1z2 is a tensor with shape (num_samples x 2)\n",
        "    # Return a tensor with shape (num_samples)\n",
        "\n",
        "    return log_posterior_beat_each_other_20_times(z1z2[:,0], z1z2[:,1]).flatten()\n",
        "\n",
        "\n",
        "def objective(params):\n",
        "  samples = diag_gaussian_samples(params[0], params[1], num_samples_per_iter)\n",
        "  log_prob = log_posterior_beat_each_other_20_times_1_arg(samples)\n",
        "\n",
        "  return -batch_elbo(log_prob, params[0], params[1], num_samples_per_iter)\n"
      ]
    },
    {
      "cell_type": "markdown",
      "metadata": {
        "id": "_V42MMIscvMs"
      },
      "source": [
        "**e) [3pt]** Run the code below to optimize, and report the final loss. Also plot the optimized variational approximation contours and the target distribution on the same axes.\n",
        "\n",
        "Write one or two sentences describing the joint settings of skills that are plausible under the true posterior, but which are not plausible under the approximate posterior.\n",
        "\n",
        "Finally, answer with one or two sentences:  Would changing the variational approximate posterior from a fully-factorized (diagonal covariance) Gaussian to a non-factorized (fully parameterized covariance) Gaussian make a better approximation in this instance?"
      ]
    },
    {
      "cell_type": "code",
      "execution_count": 10,
      "metadata": {
        "id": "ksjggALU5gWx"
      },
      "outputs": [
        {
          "name": "stdout",
          "output_type": "stream",
          "text": [
            "Optimizing variational parameters...\n"
          ]
        },
        {
          "name": "stderr",
          "output_type": "stream",
          "text": [
            " 36%|███▌      | 36/100 [00:00<00:00, 349.76it/s]"
          ]
        },
        {
          "name": "stdout",
          "output_type": "stream",
          "text": [
            "Iteration 0 lower bound 30.73189926147461\n",
            "Iteration 25 lower bound 31.714609146118164\n",
            "Iteration 50 lower bound 30.956510543823242\n"
          ]
        },
        {
          "name": "stderr",
          "output_type": "stream",
          "text": [
            "100%|██████████| 100/100 [00:00<00:00, 372.01it/s]\n"
          ]
        },
        {
          "name": "stdout",
          "output_type": "stream",
          "text": [
            "Iteration 75 lower bound 30.098180770874023\n"
          ]
        },
        {
          "data": {
            "image/png": "[encoded data removed]",
            "text/plain": [
              "<Figure size 800x800 with 1 Axes>"
            ]
          },
          "metadata": {},
          "output_type": "display_data"
        },
        {
          "data": {
            "text/plain": [
              "<Figure size 640x480 with 0 Axes>"
            ]
          },
          "metadata": {},
          "output_type": "display_data"
        }
      ],
      "source": [
        "# Main loop.\n",
        "print(\"Optimizing variational parameters...\")\n",
        "for t in trange(0, n_iters):\n",
        "    update()\n",
        "    callback(params, t)\n",
        "\n",
        "plot_2d_fun(posterior_beat_each_other_20_times, \"Player A Skill\", \"Player B Skill\",\n",
        "            f2=approx_posterior_2d)"
      ]
    },
    {
      "cell_type": "markdown",
      "metadata": {
        "id": "rrCmtd_b51Jf"
      },
      "source": [
        "## 1.2 [34 pts] Approximate inference conditioned on real data\n",
        "\n",
        "The dataset contains data on 2500 games amongst 33 Premier League teams:\n",
        " - names is a 33 by 1 matrix, whose $i$’th entry is the name of player $i$.\n",
        " - games is a 2500 by 2 matrix of game outcomes, one row per game.\n",
        "\n",
        "The first column contains the indices of the team who won.\n",
        "The second column contains the indices of the team who lost.\n",
        "\n",
        "It is based on the following kaggle dataset: https://www.kaggle.com/datasets/evangower/premier-league-matches-19922022\n",
        "\n",
        "<!-- The dataset contains data on 2546 chess games amongst 1434 players:\n",
        " - names is a 1434 by 1 matrix, whose $i$’th entry is the name of player $i$.\n",
        " - games is a 2546 by 2 matrix of game outcomes (actually chess matches), one row per game.\n",
        "\n",
        "The first column contains the indices of the players who won.\n",
        "The second column contains the indices of the player who lost.\n",
        "\n",
        "It is based on the kaggle chess dataset: https://www.kaggle.com/datasets/datasnaek/chess -->\n",
        "\n",
        "\n"
      ]
    },
    {
      "cell_type": "code",
      "execution_count": 11,
      "metadata": {
        "id": "n6mmQQMVdCNv"
      },
      "outputs": [
        {
          "name": "stderr",
          "output_type": "stream",
          "text": [
            "  % Total    % Received % Xferd  Average Speed   Time    Time     Time  Current\n",
            "                                 Dload  Upload   Total   Spent    Left  Speed\n",
            "\n",
            "  0     0    0     0    0     0      0      0 --:--:-- --:--:-- --:--:--     0\n",
            "  0     0    0     0    0     0      0      0 --:--:-- --:--:-- --:--:--     0\n",
            "\n",
            "  0     0    0     0    0     0      0      0 --:--:-- --:--:-- --:--:--     0\n",
            "  2 81859    2  1923    0     0    961      0  0:01:25  0:00:02  0:01:23  1295\n",
            " 41 81859   41 34101    0     0  17050      0  0:00:04  0:00:02  0:00:02 18187\n",
            "100 81859  100 81859    0     0  40929      0  0:00:02  0:00:02 --:--:-- 36906\n",
            "'unzip' is not recognized as an internal or external command,\n",
            "operable program or batch file.\n"
          ]
        }
      ],
      "source": [
        "# Download the dataset\n",
        "!curl -L -o premier-league-matches-19922022.zip\\\n",
        "  https://www.kaggle.com/api/v1/datasets/download/evangower/premier-league-matches-19922022\n",
        "!unzip premier-league-matches-19922022.zip"
      ]
    },
    {
      "cell_type": "code",
      "execution_count": 14,
      "metadata": {
        "id": "G65iLniidCUn"
      },
      "outputs": [],
      "source": [
        "from sklearn.preprocessing import LabelEncoder\n",
        "\n",
        "def load_games():\n",
        "    dataset = pd.read_csv(\"premier-league-matches.csv\")\n",
        "    mini_ds = dataset[dataset['FTR'] != 'D'][-2500:]\n",
        "    all_teams = pd.concat((mini_ds['Home'], mini_ds['Away'])).unique()\n",
        "    encoder = LabelEncoder()\n",
        "    encoder.fit(all_teams)\n",
        "    mini_ds['HomeId'] = encoder.transform(mini_ds['Home'])\n",
        "    mini_ds['AwayId'] = encoder.transform(mini_ds['Away'])\n",
        "\n",
        "    winner_ids = np.where(mini_ds['FTR'] == 'H', mini_ds['HomeId'], mini_ds['AwayId'])\n",
        "    loser_ids = np.where(mini_ds['FTR'] == 'H', mini_ds['AwayId'], mini_ds['HomeId'])\n",
        "    games = np.column_stack((winner_ids, loser_ids))\n",
        "    names = encoder.classes_\n",
        "\n",
        "    return games, names\n",
        "\n",
        "games, names = load_games()\n",
        "games = torch.LongTensor(games)"
      ]
    },
    {
      "cell_type": "markdown",
      "metadata": {
        "id": "dkYB8hS07fOW"
      },
      "source": [
        "\n",
        "\n",
        "**a) [0pt]** Assuming all game outcomes are i.i.d. conditioned on all players' skills, the function $\\texttt{log\\_games\\_likelihood}$ takes a batch of player skills $\\texttt{zs}$ and a collection of observed games $\\texttt{games}$ and gives the total log-likelihood for all those observations given all the skills.\n"
      ]
    },
    {
      "cell_type": "code",
      "execution_count": 15,
      "metadata": {
        "id": "pkW93RBf7pru"
      },
      "outputs": [],
      "source": [
        "def log_games_likelihood(zs, games):\n",
        "    winning_player_ixs = games[:,0]\n",
        "    losing_player_ixs = games[:,1]\n",
        "\n",
        "    winning_player_skills = zs[:, winning_player_ixs]\n",
        "    losing_player_skills = zs[:, losing_player_ixs]\n",
        "\n",
        "    log_likelihoods = logp_a_beats_b(winning_player_skills, losing_player_skills)\n",
        "    return torch.sum(log_likelihoods, dim=1)"
      ]
    },
    {
      "cell_type": "code",
      "execution_count": 29,
      "metadata": {
        "id": "uaPEulQoAndL"
      },
      "outputs": [],
      "source": [
        "def log_joint_probability(zs):\n",
        "    return log_joint_prior(zs) + log_games_likelihood(zs, games)"
      ]
    },
    {
      "cell_type": "markdown",
      "metadata": {
        "id": "aUWILTA18BRn"
      },
      "source": [
        "**b) [4pt]** Write a new objective function like the one from the previous question.\n",
        "\n",
        "Below, we initialize a variational distribution and fit it to the joint distribution with all the observed tennis games from the dataset."
      ]
    },
    {
      "cell_type": "code",
      "execution_count": 30,
      "metadata": {
        "id": "qsCQUJCFd2Eb"
      },
      "outputs": [],
      "source": [
        "# Hyperparameters\n",
        "num_players = 33\n",
        "n_iters = 200\n",
        "stepsize = 0.0001\n",
        "num_samples_per_iter = 50\n",
        "\n",
        "def objective(params):\n",
        "    samples = diag_gaussian_samples(params[0], params[1], num_samples_per_iter)\n",
        "    log_prob = log_joint_probability(samples)\n",
        "\n",
        "    return -batch_elbo(log_prob, params[0], params[1], num_samples_per_iter)"
      ]
    },
    {
      "cell_type": "markdown",
      "metadata": {
        "id": "O3ep43C5d_CT"
      },
      "source": [
        "**c) [3pts]** Optimize, and report the final loss."
      ]
    },
    {
      "cell_type": "code",
      "execution_count": 33,
      "metadata": {
        "id": "ock35XuW8EK8"
      },
      "outputs": [
        {
          "name": "stdout",
          "output_type": "stream",
          "text": [
            "Optimizing variational parameters...\n"
          ]
        },
        {
          "name": "stderr",
          "output_type": "stream",
          "text": [
            "  0%|          | 1/200 [00:00<00:25,  7.86it/s]"
          ]
        },
        {
          "name": "stdout",
          "output_type": "stream",
          "text": [
            "Iteration 0 lower bound 2268.58740234375\n"
          ]
        },
        {
          "name": "stderr",
          "output_type": "stream",
          "text": [
            "  8%|▊         | 16/200 [00:00<00:02, 81.34it/s]"
          ]
        },
        {
          "name": "stdout",
          "output_type": "stream",
          "text": [
            "Iteration 25 lower bound 1707.095947265625"
          ]
        },
        {
          "name": "stderr",
          "output_type": "stream",
          "text": [
            " 20%|██        | 41/200 [00:00<00:01, 107.02it/s]"
          ]
        },
        {
          "name": "stdout",
          "output_type": "stream",
          "text": [
            "\n",
            "Iteration 50 lower bound 1586.0826416015625\n"
          ]
        },
        {
          "name": "stderr",
          "output_type": "stream",
          "text": [
            " 49%|████▉     | 98/200 [00:00<00:00, 134.31it/s]"
          ]
        },
        {
          "name": "stdout",
          "output_type": "stream",
          "text": [
            "Iteration 75 lower bound 1551.2808837890625\n",
            "Iteration 100 lower bound 1537.6328125\n"
          ]
        },
        {
          "name": "stderr",
          "output_type": "stream",
          "text": [
            " 70%|███████   | 141/200 [00:01<00:00, 132.27it/s]"
          ]
        },
        {
          "name": "stdout",
          "output_type": "stream",
          "text": [
            "Iteration 125 lower bound 1528.7457275390625\n",
            "Iteration 150 lower bound 1525.1016845703125\n"
          ]
        },
        {
          "name": "stderr",
          "output_type": "stream",
          "text": [
            " 98%|█████████▊| 197/200 [00:01<00:00, 126.42it/s]"
          ]
        },
        {
          "name": "stdout",
          "output_type": "stream",
          "text": [
            "Iteration 175 lower bound 1519.501220703125\n"
          ]
        },
        {
          "name": "stderr",
          "output_type": "stream",
          "text": [
            "100%|██████████| 200/200 [00:01<00:00, 121.27it/s]\n"
          ]
        }
      ],
      "source": [
        "# Set up optimizer.\n",
        "init_mean = torch.zeros(num_players, requires_grad=True)\n",
        "init_log_std  = torch.zeros(num_players, requires_grad=True)\n",
        "params = (init_mean, init_log_std)\n",
        "optimizer = torch.optim.SGD(params, lr=stepsize, momentum=0.9)\n",
        "\n",
        "def update():\n",
        "    optimizer.zero_grad()\n",
        "    loss = objective(params)\n",
        "    loss.backward()\n",
        "    optimizer.step()\n",
        "\n",
        "# Optimize and print loss in a loop\n",
        "# HINT: you can use the callback() function to report loss\n",
        "\n",
        "print(\"Optimizing variational parameters...\")\n",
        "for t in trange(0, n_iters):\n",
        "    update()\n",
        "    callback(params, t)\n"
      ]
    },
    {
      "cell_type": "markdown",
      "metadata": {
        "id": "y6YluZ2B8Qmr"
      },
      "source": [
        "**d) [1pt]** Plot the approximate mean and variance of all players, sorted by skill."
      ]
    },
    {
      "cell_type": "code",
      "execution_count": 34,
      "metadata": {
        "id": "sEZtYBeH8TOO"
      },
      "outputs": [
        {
          "name": "stdout",
          "output_type": "stream",
          "text": [
            "mean: 1.8326363563537598 log std: -1.379943609237671\n",
            "mean: 1.6582595109939575 log std: -1.3477920293807983\n",
            "mean: 1.1505179405212402 log std: -1.4292621612548828\n",
            "mean: 1.05368971824646 log std: -1.4773828983306885\n",
            "mean: 1.0453026294708252 log std: -1.4781662225723267\n",
            "mean: 0.9985929727554321 log std: -1.449684739112854\n",
            "mean: 0.3889390528202057 log std: -1.4964972734451294\n",
            "mean: 0.3088916838169098 log std: -0.7784097790718079\n",
            "mean: 0.24081002175807953 log std: -1.220115303993225\n",
            "mean: 0.1332583874464035 log std: -1.4899338483810425\n",
            "mean: 0.05863722786307335 log std: -1.48753023147583\n",
            "mean: 0.057465698570013046 log std: -1.2601937055587769\n",
            "mean: 0.013844476081430912 log std: -1.4237120151519775\n",
            "mean: -0.0484359972178936 log std: -1.4832000732421875\n",
            "mean: -0.10622209310531616 log std: -1.0401774644851685\n",
            "mean: -0.1658722162246704 log std: -1.476392149925232\n",
            "mean: -0.18369224667549133 log std: -1.3377306461334229\n",
            "mean: -0.18715862929821014 log std: -0.9842365384101868\n",
            "mean: -0.21092848479747772 log std: -1.0702890157699585\n",
            "mean: -0.24926243722438812 log std: -1.3125832080841064\n",
            "mean: -0.2625148296356201 log std: -1.2903313636779785\n",
            "mean: -0.29069942235946655 log std: -0.4967104494571686\n",
            "mean: -0.4021288752555847 log std: -1.3134337663650513\n",
            "mean: -0.40556687116622925 log std: -0.8242559432983398\n",
            "mean: -0.47240304946899414 log std: -0.5622367858886719\n",
            "mean: -0.5249940752983093 log std: -0.37545639276504517\n",
            "mean: -0.5360149145126343 log std: -1.127237319946289\n",
            "mean: -0.5756627917289734 log std: -0.9675728678703308\n",
            "mean: -0.6119948029518127 log std: -0.7185375094413757\n",
            "mean: -0.7624468207359314 log std: -0.4723835289478302\n",
            "mean: -0.7729681730270386 log std: -0.8604564666748047\n",
            "mean: -1.0212434530258179 log std: -0.7503122091293335\n",
            "mean: -1.1536895036697388 log std: -0.927484929561615\n"
          ]
        }
      ],
      "source": [
        "# mean_skills, logstd_skills = # TODO.  Hint: You don't need to do simple Monte Carlo here.\n",
        "# Hint: You should use .detach() before you do anything with the params tensors\n",
        "\n",
        "mean_skills = params[0].detach()\n",
        "logstd_skills = params[1].detach()\n",
        "\n",
        "sorted_indices = torch.argsort(-mean_skills)\n",
        "\n",
        "for i in sorted_indices:\n",
        "    print(\"mean:\", mean_skills[i].item(), \"log std:\", logstd_skills[i].item())"
      ]
    },
    {
      "cell_type": "markdown",
      "metadata": {
        "id": "EjWom7_Z8VCY"
      },
      "source": [
        "**e) [1pts]** List the names of the 10 players with the highest mean skill under the variational model."
      ]
    },
    {
      "cell_type": "code",
      "execution_count": 35,
      "metadata": {
        "id": "4LCPM5Bp8YiK"
      },
      "outputs": [
        {
          "name": "stdout",
          "output_type": "stream",
          "text": [
            "Manchester City\n",
            "Liverpool\n",
            "Manchester Utd\n",
            "Tottenham\n",
            "Arsenal\n",
            "Chelsea\n",
            "Leicester City\n",
            "Brentford\n",
            "Wolves\n",
            "West Ham\n"
          ]
        }
      ],
      "source": [
        "for i in range(10):\n",
        "    print(names[sorted_indices[i]])"
      ]
    },
    {
      "cell_type": "markdown",
      "metadata": {
        "id": "sEj6LkYA8ncH"
      },
      "source": [
        "**f) [3pt]** Plot samples from the joint posterior over the skills of Arsenal and Liverpool. Based on your samples, describe in a sentence the relationship between the skills of the teams. (Is one better than the other? Are they approximately even?)"
      ]
    },
    {
      "cell_type": "code",
      "execution_count": 39,
      "metadata": {
        "id": "U6zI2sCB8qFO"
      },
      "outputs": [
        {
          "name": "stdout",
          "output_type": "stream",
          "text": [
            "Arsenal\n",
            "Liverpool\n"
          ]
        },
        {
          "data": {
            "text/plain": [
              "<matplotlib.collections.PathCollection at 0x27f55076a20>"
            ]
          },
          "execution_count": 39,
          "metadata": {},
          "output_type": "execute_result"
        },
        {
          "data": {
            "image/png": "[encoded data removed]",
            "text/plain": [
              "<Figure size 800x800 with 1 Axes>"
            ]
          },
          "metadata": {},
          "output_type": "display_data"
        }
      ],
      "source": [
        "arsenal_ix = 0\n",
        "liverpool_ix = 15\n",
        "print(names[arsenal_ix])\n",
        "print(names[liverpool_ix])\n",
        "\n",
        "fig = plt.figure(figsize=(8,8), facecolor='white')\n",
        "\n",
        "# Label each with \"<player> Skill\"\n",
        "plt.xlabel(\"Arsenal Skill\")\n",
        "plt.ylabel(\"Liverpool Skill\")\n",
        "\n",
        "plt.plot([3, -3], [3, -3], 'b--') # Line of equal skill\n",
        "\n",
        "samples = diag_gaussian_samples(mean_skills, logstd_skills, 100)\n",
        "\n",
        "\n",
        "# TODO:  Hint:  Use plt.scatter()\n",
        "arsenal_samples = samples[:, arsenal_ix]\n",
        "liverpool_samples = samples[:, liverpool_ix]\n",
        "\n",
        "plt.scatter(arsenal_samples, liverpool_samples)\n",
        "\n",
        "\n"
      ]
    },
    {
      "cell_type": "markdown",
      "metadata": {
        "id": "rUXcsAYdDnor"
      },
      "source": [
        "**g) [8pts]** Derive the exact probability under a factorized Gaussian over two players’ skills that one has higher skill than the other, as a function of the two means and variances over their skills. Express your answer in terms of the cumulative distribution function of a one-dimensional Gaussian random variable.\n",
        "\n",
        "- Hint 1: Use a linear change of variables $y_A, y_B = z_A − z_B , z_B$. What does the line of equal skill look like after this transformation?\n",
        "- Hint 2: If $X \\sim \\mathcal N (\\mu, \\Sigma)$, then $AX \\sim \\mathcal N (A\\mu, A\\Sigma A^T)$ where $A$ is a linear transformation.\n",
        "- Hint 3: Marginalization in Gaussians is easy: if $X \\sim \\mathcal N (\\mu, \\Sigma)$, then the $i$th element of $X$ has a\n",
        "marginal distribution $X_i \\sim \\mathcal N (\\mu_i , \\Sigma_{ii})$."
      ]
    },
    {
      "cell_type": "markdown",
      "metadata": {
        "id": "OxazFdqcFhF_"
      },
      "source": [
        "Your answer here."
      ]
    },
    {
      "cell_type": "markdown",
      "metadata": {
        "id": "GO3k7rfI8sWg"
      },
      "source": [
        "**h) [4pts]** Compute the probability under your approximate posterior that Arsenal has higher skill than Liverpool. Compute this quantity exactly using the formula you just derived above, and also estimate it using simple Monte Carlo with 10000 examples.\n",
        "\n",
        "Hint:  You might want to use `Normal(0,1).cdf()` for the exact formula."
      ]
    },
    {
      "cell_type": "code",
      "execution_count": null,
      "metadata": {
        "id": "oqXgDi-T-W7o"
      },
      "outputs": [],
      "source": [
        "# TODO"
      ]
    },
    {
      "cell_type": "markdown",
      "metadata": {
        "id": "olpPTnm3-YdN"
      },
      "source": [
        "**i) [2pts]** Compute the probability that Arsenal is better than the player with the 5th lowest mean skill. Compute this quantity exactly, and then estimate it using simple Monte Carlo with 10000 examples.\n"
      ]
    },
    {
      "cell_type": "code",
      "execution_count": null,
      "metadata": {
        "id": "PNLfQCDdbZ7d"
      },
      "outputs": [],
      "source": [
        "# TODO\n"
      ]
    },
    {
      "cell_type": "markdown",
      "metadata": {
        "id": "kjslZo7WUH2-"
      },
      "source": [
        "**j) [4 pts]** Imagine that we knew ahead of time that we were examining the skills of top chess players, and so changed our prior on all players to Normal(5, 1) and re-ran our approximate inference from scratch. Would that change the answer of either of the previous 2 questions, in expectation?"
      ]
    },
    {
      "cell_type": "markdown",
      "metadata": {
        "id": "W37pO-PDNjKc"
      },
      "source": [
        "Your answer here."
      ]
    },
    {
      "cell_type": "markdown",
      "metadata": {
        "id": "cNJ5WuyQKPPM"
      },
      "source": [
        "**k) [4 pts]** Based on all the plots and results in this assignment and HW2, which approximate inference method do you suspect is producing a better overall approximation to the true posterior over all skills conditioned on all games?  Give a short explanation."
      ]
    },
    {
      "cell_type": "markdown",
      "metadata": {
        "id": "mtmXbA3OKSoM"
      },
      "source": [
        "Your answer here."
      ]
    },
    {
      "cell_type": "markdown",
      "metadata": {
        "id": "nDUMG4VJU4x5"
      },
      "source": [
        "# 2. [21pts] Question 2: VAE with synthetic data\n",
        "\n",
        "In this question, we will train a VAE on a synthetic data which resembles spirals in 2d. We will perform amortized inference with VAEs."
      ]
    },
    {
      "cell_type": "markdown",
      "metadata": {
        "id": "S-NI6vCde9rg"
      },
      "source": [
        "Function below generates the synthetic knot shape data."
      ]
    },
    {
      "cell_type": "code",
      "execution_count": null,
      "metadata": {
        "id": "uyiFI2Aie9UH"
      },
      "outputs": [],
      "source": [
        "def make_banana_data(num_classes, num_per_class, noise_std=0.3):\n",
        "    # Create points in the shape of a banana\n",
        "    features = []\n",
        "    labels = []\n",
        "\n",
        "    for i in range(num_classes):\n",
        "        theta = torch.linspace(0, np.pi, num_per_class) + i * (2 * np.pi / num_classes)  # spread across the circle\n",
        "        x = torch.sin(theta) + noise_std * torch.randn_like(theta)  # add some noise\n",
        "        y = torch.cos(theta) * (torch.sin(theta) + noise_std * torch.randn_like(theta))  # banana shape, noise too\n",
        "\n",
        "        features.append(torch.stack([x, y], dim=1))\n",
        "        labels.extend([i] * num_per_class)\n",
        "\n",
        "    # Concatenate features and labels\n",
        "    features = torch.cat(features, dim=0)\n",
        "    labels = torch.tensor(labels).long()\n",
        "\n",
        "    # Shuffle the dataset\n",
        "    perm_ix = torch.randperm(labels.shape[0])\n",
        "    return labels[perm_ix], features[perm_ix]"
      ]
    },
    {
      "cell_type": "markdown",
      "metadata": {
        "id": "_4HxOH1GWBno"
      },
      "source": [
        "We visualize the 2d data generated from the above function. Notice that there are 3 clusters in the input space, each colored with a different color. The VAE will not see the cluster assignments, but we hope to recover this structure in the latent space."
      ]
    },
    {
      "cell_type": "code",
      "execution_count": null,
      "metadata": {
        "id": "DUpKL-57dRR9"
      },
      "outputs": [],
      "source": [
        "num_clusters = 3\n",
        "samples_per_cluster = 300\n",
        "labels, data = make_banana_data(num_clusters, samples_per_cluster, 0.02)\n",
        "\n",
        "\n",
        "for k in range(num_clusters):\n",
        "    plt.scatter(data[labels == k, 0], data[labels == k, 1], s=2)\n",
        "\n",
        "plt.axis(\"equal\")"
      ]
    },
    {
      "cell_type": "markdown",
      "metadata": {
        "id": "QXlBa-8oFn9V"
      },
      "source": [
        "## 2.1 [12 pts] Implement the missing lines in the below code, to complete the $\\texttt{elbo}$ function for a variational autoencoder.\n",
        "\n",
        "The banana dataset and an example encoder / decoder is provided just to help you debug.\n"
      ]
    },
    {
      "cell_type": "code",
      "execution_count": null,
      "metadata": {
        "id": "ChZZaRmqhkvu"
      },
      "outputs": [],
      "source": [
        "# Generic VAE functions.\n",
        "\n",
        "def log_prior(zs_array):\n",
        "    return diag_gaussian_log_density(zs_array, torch.tensor([0.0]), torch.tensor([1.0]))\n",
        "\n",
        "def diag_gaussian_samples(mean, log_std, num_samples):\n",
        "    return mean + torch.exp(log_std) * torch.randn(num_samples, mean.shape[-1])\n",
        "\n",
        "def diag_gaussian_logpdf(x, mean, log_std):\n",
        "    return diag_gaussian_log_density(x, mean, torch.exp(log_std))\n",
        "\n",
        "\n",
        "def batch_elbo(  # Simple Monte Carlo estimate of the variational lower bound.\n",
        "    recognition_net,    # takes a batch of datapoints, outputs mean and log_std of size (batch_size x latent_dim), i.e. log q(z|x)\n",
        "    decoder_net,        # takes a batch of latent samples, outputs mean and log_std of size (batch_size x data_dim), i.e. log p(x|z)\n",
        "    log_joint,          # takes decoder_net, a batch of latent samples, and a batch of datapoints, outputs unnormalized log joint, i.e. log p(x,z)\n",
        "    data                # a.k.a. x\n",
        "    ):\n",
        "    #TODO"
      ]
    },
    {
      "cell_type": "markdown",
      "metadata": {
        "id": "lOyXE8CCHNwT"
      },
      "source": [
        "The below code trains a VAE where the encoder and decoder are both neural networks. The parameters are specified in the starter code.  You don't need to do anything here, this is just to help you debug."
      ]
    },
    {
      "cell_type": "code",
      "execution_count": null,
      "metadata": {
        "id": "OgGgHfUsmid6"
      },
      "outputs": [],
      "source": [
        "from torch.utils.data import TensorDataset, DataLoader\n",
        "# Now define a specific VAE for the spiral dataset\n",
        "\n",
        "data_dimension = 2\n",
        "latent_dimension = 2\n",
        "\n",
        "# Define the recognition network.\n",
        "class RecognitionNet(nn.Module):\n",
        "    def __init__(self, data_dimension, latent_dimension):\n",
        "        super().__init__()\n",
        "        self.net = nn.Sequential(\n",
        "            nn.Linear(data_dimension, 100),\n",
        "            nn.ReLU(),\n",
        "            nn.Linear(100, 50),\n",
        "            nn.ReLU()\n",
        "        )\n",
        "        self.mean_net = nn.Linear(50, latent_dimension) # Output mean of q(z)\n",
        "        self.std_net = nn.Linear(50, latent_dimension) # Output log_std of q(z)\n",
        "\n",
        "    def forward(self, x):\n",
        "        interm = self.net(x)\n",
        "        mean, log_std = self.mean_net(interm), self.std_net(interm)\n",
        "        return mean, log_std\n",
        "\n",
        "recognition_net = RecognitionNet(data_dimension, latent_dimension)\n",
        "\n",
        "# Define the decoder network.\n",
        "# Note that it has two outputs, a mean and a variance, because\n",
        "# this model has a Gaussian likelihood p(x|z).\n",
        "class Decoder(nn.Module):\n",
        "    def __init__(self, latent_dimension, data_dimension):\n",
        "        super().__init__()\n",
        "        self.net = nn.Sequential(\n",
        "            nn.Linear(latent_dimension, 100),\n",
        "            nn.ReLU(),\n",
        "            nn.Linear(100, 50),\n",
        "            nn.ReLU()\n",
        "        )\n",
        "        self.mean_net = nn.Linear(50, data_dimension) # Output mean of p(x|z)\n",
        "        self.std_net = nn.Linear(50, data_dimension) # Output log_std of p(x|z)\n",
        "\n",
        "    def forward(self, x):\n",
        "        interm = self.net(x)\n",
        "        mean, log_std = self.mean_net(interm), self.std_net(interm)\n",
        "        return mean, log_std\n",
        "\n",
        "decoder_net = Decoder(latent_dimension, data_dimension)\n",
        "\n",
        "# Set up log likelihood function.\n",
        "def log_likelihood(decoder_net, latent, data):\n",
        "    mean, log_std = decoder_net(latent)\n",
        "    return diag_gaussian_logpdf(data, mean,\n",
        "                                np.log(0.1) + 0. * log_std)  # Note: we are cheating here and using a fixed noise variance to make optimization more stable.\n",
        "\n",
        "def log_joint(decoder_net, latent, data):\n",
        "    return log_prior(latent) + log_likelihood(decoder_net, latent, data)\n",
        "\n",
        "# Run optimization\n",
        "optimizer = torch.optim.Adam([{'params': recognition_net.parameters()},\n",
        "                      {'params': decoder_net.parameters()}], lr=1e-3)\n",
        "n_iters = 2000\n",
        "minibatch_size = 300\n",
        "\n",
        "dataset = TensorDataset(torch.tensor(data))\n",
        "dataloader = DataLoader(dataset, batch_size=minibatch_size, shuffle=True)\n",
        "\n",
        "def objective(recognition_net, decoder_net):  # The loss function to be minimized.\n",
        "    minibatch = next(iter(dataloader))[0]\n",
        "    return -batch_elbo(\n",
        "    recognition_net,\n",
        "    decoder_net,\n",
        "    log_joint,\n",
        "    minibatch)\n",
        "\n",
        "def callback(t):\n",
        "    if t % 100 == 0:\n",
        "        print(\"Iteration {} lower bound {}\".format(t, -objective(recognition_net, decoder_net)))\n",
        "\n",
        "def update():\n",
        "    optimizer.zero_grad()\n",
        "    loss = objective(recognition_net, decoder_net)\n",
        "    loss.backward()\n",
        "    optimizer.step()\n",
        "\n",
        "# Main loop.\n",
        "print(\"Optimizing variational parameters...\")\n",
        "for t in trange(0, n_iters):\n",
        "    update()\n",
        "    callback(t)"
      ]
    },
    {
      "cell_type": "markdown",
      "metadata": {
        "id": "ItI3GUaJH2o7"
      },
      "source": [
        "## 2.2 [5 pts]  In this part, we visualize how the data looks like in the latent space. We simply use the trained recognition network (the encoder) to map each input to latent space.\n"
      ]
    },
    {
      "cell_type": "code",
      "execution_count": null,
      "metadata": {
        "id": "u5GjmVm636GK"
      },
      "outputs": [],
      "source": [
        "# Show the means of the encoded data in a 2D latent space.\n",
        "# Don't worry if this doesn't look much like a Gaussian.\n",
        "\n",
        "for k in range(num_clusters):\n",
        "    # cur_data =  # TODO get all the data from this cluster.\n",
        "    # transformed =  # TODO find the mean of q(z|x) for each x.\n",
        "\n",
        "plt.axis(\"equal\")\n",
        "plt.xlabel(\"latent dimension 1\")\n",
        "plt.ylabel(\"latent dimension 2\")"
      ]
    },
    {
      "cell_type": "markdown",
      "metadata": {
        "id": "FeSyYzKhINyK"
      },
      "source": [
        "## 2.3 [4pts] Generate new data using the decoder and the generative model we just trained.\n",
        "\n",
        "For this, we simply generate 1500 latent variables in the latent space from the prior and pass it through the decoder network.\n",
        "\n",
        "You shouldn't expect this to match the data exactly, just to get the overall shape and number of clusters roughly correct.  \n"
      ]
    },
    {
      "cell_type": "code",
      "execution_count": null,
      "metadata": {
        "id": "YYm4QeiGk_Jm"
      },
      "outputs": [],
      "source": [
        "# Sample data from the trained generative model to see if it\n",
        "# roughly matches the data.  # Note: This doesn't add the likelihood noise,\n",
        "# although it should if we want it to match the data.\n",
        "\n",
        "num_samples = 1500\n",
        "# samples =  # TODO\n",
        "# transformed =  # TODO\n",
        "\n"
      ]
    },
    {
      "cell_type": "markdown",
      "metadata": {
        "id": "Z3ndLm3JggYd"
      },
      "source": [
        "Here's a debugging tool only available when both the latent space and the data are both 2-dimensional.  We can show the function being learned by the encoder by showing how it warps a 2D grid into the latent space."
      ]
    },
    {
      "cell_type": "code",
      "execution_count": null,
      "metadata": {
        "id": "UgdwiGrpsHRP"
      },
      "outputs": [],
      "source": [
        "from matplotlib.collections import LineCollection\n",
        "\n",
        "def plot_grid(x,y, ax=None, **kwargs):\n",
        "    ax = ax or plt.gca()\n",
        "    segs1 = np.stack((x,y), axis=2)\n",
        "    segs2 = segs1.transpose(1,0,2)\n",
        "    ax.add_collection(LineCollection(segs1, **kwargs))\n",
        "    ax.add_collection(LineCollection(segs2, **kwargs))\n",
        "    ax.autoscale()\n",
        "\n",
        "def f(x,y):\n",
        "    xy = torch.stack([x.flatten(), y.flatten()], dim=1)\n",
        "    return decoder_net(xy)\n",
        "\n",
        "fig, ax = plt.subplots()\n",
        "\n",
        "grid_x,grid_y = torch.meshgrid(torch.linspace(-3,3,20),torch.linspace(-3,3,20))\n",
        "plot_grid(grid_x,grid_y, ax=ax,  color=\"lightgrey\")\n",
        "\n",
        "distx, disty = f(grid_x,grid_y)\n",
        "distx, disty = distx.reshape(20, 20, 2), disty.reshape(20, 20, 2)\n",
        "plot_grid(distx[:, :, 0].detach().numpy(), distx[:, :, 1].detach().numpy(), ax=ax, color=\"C0\")\n",
        "\n",
        "plt.show()"
      ]
    },
    {
      "cell_type": "markdown",
      "metadata": {
        "id": "qX7XKlJLgqFz"
      },
      "source": [
        "Here, we show the function being learned by the decoder by showing how it warps a 2D grid into the observed space.\n",
        "\n"
      ]
    },
    {
      "cell_type": "code",
      "execution_count": null,
      "metadata": {
        "id": "DqkriclvSsaN"
      },
      "outputs": [],
      "source": [
        "def f(x,y):\n",
        "    xy = torch.stack([x.flatten(), y.flatten()], dim=1)\n",
        "    return recognition_net(xy)\n",
        "\n",
        "fig, ax = plt.subplots()\n",
        "\n",
        "grid_x,grid_y = torch.meshgrid(torch.linspace(-3,3,20),torch.linspace(-3,3,20))\n",
        "plot_grid(grid_x,grid_y, ax=ax,  color=\"lightgrey\")\n",
        "\n",
        "distx, disty = f(grid_x,grid_y)\n",
        "distx, disty = distx.reshape(20, 20, 2), disty.reshape(20, 20, 2)\n",
        "plot_grid(distx[:, :, 0].detach().numpy(), distx[:, :, 1].detach().numpy(), ax=ax, color=\"C0\")\n",
        "\n",
        "plt.show()"
      ]
    }
  ],
  "metadata": {
    "colab": {
      "provenance": [],
      "toc_visible": true
    },
    "gpuClass": "standard",
    "kernelspec": {
      "display_name": "Python 3",
      "name": "python3"
    },
    "language_info": {
      "codemirror_mode": {
        "name": "ipython",
        "version": 3
      },
      "file_extension": ".py",
      "mimetype": "text/x-python",
      "name": "python",
      "nbconvert_exporter": "python",
      "pygments_lexer": "ipython3",
      "version": "3.12.8"
    }
  },
  "nbformat": 4,
  "nbformat_minor": 0
}
